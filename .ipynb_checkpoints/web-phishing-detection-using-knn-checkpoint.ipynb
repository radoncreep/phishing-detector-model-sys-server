{
 "cells": [
  {
   "cell_type": "code",
   "execution_count": 1,
   "metadata": {
    "execution": {
     "iopub.execute_input": "2021-10-05T08:13:43.811226Z",
     "iopub.status.busy": "2021-10-05T08:13:43.810659Z",
     "iopub.status.idle": "2021-10-05T08:13:44.788166Z",
     "shell.execute_reply": "2021-10-05T08:13:44.787298Z",
     "shell.execute_reply.started": "2021-10-05T08:13:43.811126Z"
    }
   },
   "outputs": [],
   "source": [
    "import numpy as np\n",
    "import pandas as pd\n",
    "from sklearn.preprocessing import StandardScaler\n",
    "from sklearn.model_selection import train_test_split\n",
    "from sklearn.neighbors import KNeighborsClassifier\n",
    "from sklearn.metrics import accuracy_score, confusion_matrix,f1_score, precision_score\n",
    "from sklearn.model_selection import cross_val_score, cross_val_predict\n",
    "import pickle\n"
   ]
  },
  {
   "cell_type": "code",
   "execution_count": 2,
   "metadata": {
    "execution": {
     "iopub.execute_input": "2021-10-05T08:13:44.790375Z",
     "iopub.status.busy": "2021-10-05T08:13:44.789868Z",
     "iopub.status.idle": "2021-10-05T08:13:44.837410Z",
     "shell.execute_reply": "2021-10-05T08:13:44.836654Z",
     "shell.execute_reply.started": "2021-10-05T08:13:44.790331Z"
    }
   },
   "outputs": [
    {
     "data": {
      "text/html": [
       "<div>\n",
       "<style scoped>\n",
       "    .dataframe tbody tr th:only-of-type {\n",
       "        vertical-align: middle;\n",
       "    }\n",
       "\n",
       "    .dataframe tbody tr th {\n",
       "        vertical-align: top;\n",
       "    }\n",
       "\n",
       "    .dataframe thead th {\n",
       "        text-align: right;\n",
       "    }\n",
       "</style>\n",
       "<table border=\"1\" class=\"dataframe\">\n",
       "  <thead>\n",
       "    <tr style=\"text-align: right;\">\n",
       "      <th></th>\n",
       "      <th>SFH</th>\n",
       "      <th>popUpWidnow</th>\n",
       "      <th>SSLfinal_State</th>\n",
       "      <th>Request_URL</th>\n",
       "      <th>URL_of_Anchor</th>\n",
       "      <th>web_traffic</th>\n",
       "      <th>URL_Length</th>\n",
       "      <th>age_of_domain</th>\n",
       "      <th>having_IP_Address</th>\n",
       "      <th>Result</th>\n",
       "    </tr>\n",
       "  </thead>\n",
       "  <tbody>\n",
       "    <tr>\n",
       "      <th>0</th>\n",
       "      <td>1</td>\n",
       "      <td>-1</td>\n",
       "      <td>1</td>\n",
       "      <td>-1</td>\n",
       "      <td>-1</td>\n",
       "      <td>1</td>\n",
       "      <td>1</td>\n",
       "      <td>1</td>\n",
       "      <td>0</td>\n",
       "      <td>0</td>\n",
       "    </tr>\n",
       "    <tr>\n",
       "      <th>1</th>\n",
       "      <td>-1</td>\n",
       "      <td>-1</td>\n",
       "      <td>-1</td>\n",
       "      <td>-1</td>\n",
       "      <td>-1</td>\n",
       "      <td>0</td>\n",
       "      <td>1</td>\n",
       "      <td>1</td>\n",
       "      <td>1</td>\n",
       "      <td>1</td>\n",
       "    </tr>\n",
       "    <tr>\n",
       "      <th>2</th>\n",
       "      <td>1</td>\n",
       "      <td>-1</td>\n",
       "      <td>0</td>\n",
       "      <td>0</td>\n",
       "      <td>-1</td>\n",
       "      <td>0</td>\n",
       "      <td>-1</td>\n",
       "      <td>1</td>\n",
       "      <td>0</td>\n",
       "      <td>1</td>\n",
       "    </tr>\n",
       "    <tr>\n",
       "      <th>3</th>\n",
       "      <td>1</td>\n",
       "      <td>0</td>\n",
       "      <td>1</td>\n",
       "      <td>-1</td>\n",
       "      <td>-1</td>\n",
       "      <td>0</td>\n",
       "      <td>1</td>\n",
       "      <td>1</td>\n",
       "      <td>0</td>\n",
       "      <td>0</td>\n",
       "    </tr>\n",
       "    <tr>\n",
       "      <th>4</th>\n",
       "      <td>-1</td>\n",
       "      <td>-1</td>\n",
       "      <td>1</td>\n",
       "      <td>-1</td>\n",
       "      <td>0</td>\n",
       "      <td>0</td>\n",
       "      <td>-1</td>\n",
       "      <td>1</td>\n",
       "      <td>0</td>\n",
       "      <td>1</td>\n",
       "    </tr>\n",
       "    <tr>\n",
       "      <th>...</th>\n",
       "      <td>...</td>\n",
       "      <td>...</td>\n",
       "      <td>...</td>\n",
       "      <td>...</td>\n",
       "      <td>...</td>\n",
       "      <td>...</td>\n",
       "      <td>...</td>\n",
       "      <td>...</td>\n",
       "      <td>...</td>\n",
       "      <td>...</td>\n",
       "    </tr>\n",
       "    <tr>\n",
       "      <th>1348</th>\n",
       "      <td>-1</td>\n",
       "      <td>-1</td>\n",
       "      <td>-1</td>\n",
       "      <td>-1</td>\n",
       "      <td>-1</td>\n",
       "      <td>-1</td>\n",
       "      <td>0</td>\n",
       "      <td>1</td>\n",
       "      <td>0</td>\n",
       "      <td>1</td>\n",
       "    </tr>\n",
       "    <tr>\n",
       "      <th>1349</th>\n",
       "      <td>-1</td>\n",
       "      <td>0</td>\n",
       "      <td>1</td>\n",
       "      <td>0</td>\n",
       "      <td>-1</td>\n",
       "      <td>0</td>\n",
       "      <td>0</td>\n",
       "      <td>1</td>\n",
       "      <td>0</td>\n",
       "      <td>-1</td>\n",
       "    </tr>\n",
       "    <tr>\n",
       "      <th>1350</th>\n",
       "      <td>-1</td>\n",
       "      <td>0</td>\n",
       "      <td>-1</td>\n",
       "      <td>-1</td>\n",
       "      <td>-1</td>\n",
       "      <td>0</td>\n",
       "      <td>-1</td>\n",
       "      <td>-1</td>\n",
       "      <td>0</td>\n",
       "      <td>1</td>\n",
       "    </tr>\n",
       "    <tr>\n",
       "      <th>1351</th>\n",
       "      <td>0</td>\n",
       "      <td>0</td>\n",
       "      <td>1</td>\n",
       "      <td>0</td>\n",
       "      <td>0</td>\n",
       "      <td>0</td>\n",
       "      <td>-1</td>\n",
       "      <td>1</td>\n",
       "      <td>0</td>\n",
       "      <td>1</td>\n",
       "    </tr>\n",
       "    <tr>\n",
       "      <th>1352</th>\n",
       "      <td>1</td>\n",
       "      <td>0</td>\n",
       "      <td>1</td>\n",
       "      <td>1</td>\n",
       "      <td>1</td>\n",
       "      <td>0</td>\n",
       "      <td>-1</td>\n",
       "      <td>-1</td>\n",
       "      <td>0</td>\n",
       "      <td>-1</td>\n",
       "    </tr>\n",
       "  </tbody>\n",
       "</table>\n",
       "<p>1353 rows × 10 columns</p>\n",
       "</div>"
      ],
      "text/plain": [
       "      SFH  popUpWidnow  SSLfinal_State  Request_URL  URL_of_Anchor  \\\n",
       "0       1           -1               1           -1             -1   \n",
       "1      -1           -1              -1           -1             -1   \n",
       "2       1           -1               0            0             -1   \n",
       "3       1            0               1           -1             -1   \n",
       "4      -1           -1               1           -1              0   \n",
       "...   ...          ...             ...          ...            ...   \n",
       "1348   -1           -1              -1           -1             -1   \n",
       "1349   -1            0               1            0             -1   \n",
       "1350   -1            0              -1           -1             -1   \n",
       "1351    0            0               1            0              0   \n",
       "1352    1            0               1            1              1   \n",
       "\n",
       "      web_traffic  URL_Length  age_of_domain  having_IP_Address  Result  \n",
       "0               1           1              1                  0       0  \n",
       "1               0           1              1                  1       1  \n",
       "2               0          -1              1                  0       1  \n",
       "3               0           1              1                  0       0  \n",
       "4               0          -1              1                  0       1  \n",
       "...           ...         ...            ...                ...     ...  \n",
       "1348           -1           0              1                  0       1  \n",
       "1349            0           0              1                  0      -1  \n",
       "1350            0          -1             -1                  0       1  \n",
       "1351            0          -1              1                  0       1  \n",
       "1352            0          -1             -1                  0      -1  \n",
       "\n",
       "[1353 rows x 10 columns]"
      ]
     },
     "execution_count": 2,
     "metadata": {},
     "output_type": "execute_result"
    }
   ],
   "source": [
    "data_frame = pd.read_csv('webphishdata.csv')\n",
    "data_frame"
   ]
  },
  {
   "cell_type": "code",
   "execution_count": 3,
   "metadata": {
    "execution": {
     "iopub.execute_input": "2021-10-05T08:13:44.838713Z",
     "iopub.status.busy": "2021-10-05T08:13:44.838459Z",
     "iopub.status.idle": "2021-10-05T08:13:44.859158Z",
     "shell.execute_reply": "2021-10-05T08:13:44.858303Z",
     "shell.execute_reply.started": "2021-10-05T08:13:44.838685Z"
    }
   },
   "outputs": [
    {
     "data": {
      "text/html": [
       "<div>\n",
       "<style scoped>\n",
       "    .dataframe tbody tr th:only-of-type {\n",
       "        vertical-align: middle;\n",
       "    }\n",
       "\n",
       "    .dataframe tbody tr th {\n",
       "        vertical-align: top;\n",
       "    }\n",
       "\n",
       "    .dataframe thead th {\n",
       "        text-align: right;\n",
       "    }\n",
       "</style>\n",
       "<table border=\"1\" class=\"dataframe\">\n",
       "  <thead>\n",
       "    <tr style=\"text-align: right;\">\n",
       "      <th></th>\n",
       "      <th>SFH</th>\n",
       "      <th>popUpWidnow</th>\n",
       "      <th>SSLfinal_State</th>\n",
       "      <th>Request_URL</th>\n",
       "      <th>URL_of_Anchor</th>\n",
       "      <th>web_traffic</th>\n",
       "      <th>URL_Length</th>\n",
       "      <th>age_of_domain</th>\n",
       "      <th>having_IP_Address</th>\n",
       "    </tr>\n",
       "  </thead>\n",
       "  <tbody>\n",
       "    <tr>\n",
       "      <th>0</th>\n",
       "      <td>1</td>\n",
       "      <td>-1</td>\n",
       "      <td>1</td>\n",
       "      <td>-1</td>\n",
       "      <td>-1</td>\n",
       "      <td>1</td>\n",
       "      <td>1</td>\n",
       "      <td>1</td>\n",
       "      <td>0</td>\n",
       "    </tr>\n",
       "    <tr>\n",
       "      <th>1</th>\n",
       "      <td>-1</td>\n",
       "      <td>-1</td>\n",
       "      <td>-1</td>\n",
       "      <td>-1</td>\n",
       "      <td>-1</td>\n",
       "      <td>0</td>\n",
       "      <td>1</td>\n",
       "      <td>1</td>\n",
       "      <td>1</td>\n",
       "    </tr>\n",
       "    <tr>\n",
       "      <th>2</th>\n",
       "      <td>1</td>\n",
       "      <td>-1</td>\n",
       "      <td>0</td>\n",
       "      <td>0</td>\n",
       "      <td>-1</td>\n",
       "      <td>0</td>\n",
       "      <td>-1</td>\n",
       "      <td>1</td>\n",
       "      <td>0</td>\n",
       "    </tr>\n",
       "    <tr>\n",
       "      <th>3</th>\n",
       "      <td>1</td>\n",
       "      <td>0</td>\n",
       "      <td>1</td>\n",
       "      <td>-1</td>\n",
       "      <td>-1</td>\n",
       "      <td>0</td>\n",
       "      <td>1</td>\n",
       "      <td>1</td>\n",
       "      <td>0</td>\n",
       "    </tr>\n",
       "    <tr>\n",
       "      <th>4</th>\n",
       "      <td>-1</td>\n",
       "      <td>-1</td>\n",
       "      <td>1</td>\n",
       "      <td>-1</td>\n",
       "      <td>0</td>\n",
       "      <td>0</td>\n",
       "      <td>-1</td>\n",
       "      <td>1</td>\n",
       "      <td>0</td>\n",
       "    </tr>\n",
       "    <tr>\n",
       "      <th>...</th>\n",
       "      <td>...</td>\n",
       "      <td>...</td>\n",
       "      <td>...</td>\n",
       "      <td>...</td>\n",
       "      <td>...</td>\n",
       "      <td>...</td>\n",
       "      <td>...</td>\n",
       "      <td>...</td>\n",
       "      <td>...</td>\n",
       "    </tr>\n",
       "    <tr>\n",
       "      <th>1348</th>\n",
       "      <td>-1</td>\n",
       "      <td>-1</td>\n",
       "      <td>-1</td>\n",
       "      <td>-1</td>\n",
       "      <td>-1</td>\n",
       "      <td>-1</td>\n",
       "      <td>0</td>\n",
       "      <td>1</td>\n",
       "      <td>0</td>\n",
       "    </tr>\n",
       "    <tr>\n",
       "      <th>1349</th>\n",
       "      <td>-1</td>\n",
       "      <td>0</td>\n",
       "      <td>1</td>\n",
       "      <td>0</td>\n",
       "      <td>-1</td>\n",
       "      <td>0</td>\n",
       "      <td>0</td>\n",
       "      <td>1</td>\n",
       "      <td>0</td>\n",
       "    </tr>\n",
       "    <tr>\n",
       "      <th>1350</th>\n",
       "      <td>-1</td>\n",
       "      <td>0</td>\n",
       "      <td>-1</td>\n",
       "      <td>-1</td>\n",
       "      <td>-1</td>\n",
       "      <td>0</td>\n",
       "      <td>-1</td>\n",
       "      <td>-1</td>\n",
       "      <td>0</td>\n",
       "    </tr>\n",
       "    <tr>\n",
       "      <th>1351</th>\n",
       "      <td>0</td>\n",
       "      <td>0</td>\n",
       "      <td>1</td>\n",
       "      <td>0</td>\n",
       "      <td>0</td>\n",
       "      <td>0</td>\n",
       "      <td>-1</td>\n",
       "      <td>1</td>\n",
       "      <td>0</td>\n",
       "    </tr>\n",
       "    <tr>\n",
       "      <th>1352</th>\n",
       "      <td>1</td>\n",
       "      <td>0</td>\n",
       "      <td>1</td>\n",
       "      <td>1</td>\n",
       "      <td>1</td>\n",
       "      <td>0</td>\n",
       "      <td>-1</td>\n",
       "      <td>-1</td>\n",
       "      <td>0</td>\n",
       "    </tr>\n",
       "  </tbody>\n",
       "</table>\n",
       "<p>1353 rows × 9 columns</p>\n",
       "</div>"
      ],
      "text/plain": [
       "      SFH  popUpWidnow  SSLfinal_State  Request_URL  URL_of_Anchor  \\\n",
       "0       1           -1               1           -1             -1   \n",
       "1      -1           -1              -1           -1             -1   \n",
       "2       1           -1               0            0             -1   \n",
       "3       1            0               1           -1             -1   \n",
       "4      -1           -1               1           -1              0   \n",
       "...   ...          ...             ...          ...            ...   \n",
       "1348   -1           -1              -1           -1             -1   \n",
       "1349   -1            0               1            0             -1   \n",
       "1350   -1            0              -1           -1             -1   \n",
       "1351    0            0               1            0              0   \n",
       "1352    1            0               1            1              1   \n",
       "\n",
       "      web_traffic  URL_Length  age_of_domain  having_IP_Address  \n",
       "0               1           1              1                  0  \n",
       "1               0           1              1                  1  \n",
       "2               0          -1              1                  0  \n",
       "3               0           1              1                  0  \n",
       "4               0          -1              1                  0  \n",
       "...           ...         ...            ...                ...  \n",
       "1348           -1           0              1                  0  \n",
       "1349            0           0              1                  0  \n",
       "1350            0          -1             -1                  0  \n",
       "1351            0          -1              1                  0  \n",
       "1352            0          -1             -1                  0  \n",
       "\n",
       "[1353 rows x 9 columns]"
      ]
     },
     "execution_count": 3,
     "metadata": {},
     "output_type": "execute_result"
    }
   ],
   "source": [
    "# splitting dataset into input and output\n",
    "X = data_frame.drop(columns=\"Result\")\n",
    "X"
   ]
  },
  {
   "cell_type": "code",
   "execution_count": 4,
   "metadata": {
    "execution": {
     "iopub.execute_input": "2021-10-05T08:13:44.861558Z",
     "iopub.status.busy": "2021-10-05T08:13:44.861261Z",
     "iopub.status.idle": "2021-10-05T08:13:44.873560Z",
     "shell.execute_reply": "2021-10-05T08:13:44.872781Z",
     "shell.execute_reply.started": "2021-10-05T08:13:44.861530Z"
    }
   },
   "outputs": [
    {
     "data": {
      "text/plain": [
       "0       0\n",
       "1       1\n",
       "2       1\n",
       "3       0\n",
       "4       1\n",
       "       ..\n",
       "1348    1\n",
       "1349   -1\n",
       "1350    1\n",
       "1351    1\n",
       "1352   -1\n",
       "Name: Result, Length: 1353, dtype: int64"
      ]
     },
     "execution_count": 4,
     "metadata": {},
     "output_type": "execute_result"
    }
   ],
   "source": [
    "y = data_frame[\"Result\"]\n",
    "y"
   ]
  },
  {
   "cell_type": "markdown",
   "metadata": {},
   "source": [
    "# Data Normalization"
   ]
  },
  {
   "cell_type": "code",
   "execution_count": 5,
   "metadata": {
    "execution": {
     "iopub.execute_input": "2021-10-05T08:13:44.875379Z",
     "iopub.status.busy": "2021-10-05T08:13:44.875105Z",
     "iopub.status.idle": "2021-10-05T08:13:44.887671Z",
     "shell.execute_reply": "2021-10-05T08:13:44.886796Z",
     "shell.execute_reply.started": "2021-10-05T08:13:44.875352Z"
    }
   },
   "outputs": [
    {
     "data": {
      "text/plain": [
       "array([[ 0.83184339, -1.09206271,  0.81833407, ...,  1.38168214,\n",
       "         0.8       , -0.35969752],\n",
       "       [-1.35144295, -1.09206271, -1.61508571, ...,  1.38168214,\n",
       "         0.8       ,  2.78011371],\n",
       "       [ 0.83184339, -1.09206271, -0.39837582, ..., -1.24205952,\n",
       "         0.8       , -0.35969752],\n",
       "       ...,\n",
       "       [-1.35144295,  0.38107871, -1.61508571, ..., -1.24205952,\n",
       "        -1.25      , -0.35969752],\n",
       "       [-0.25979978,  0.38107871,  0.81833407, ..., -1.24205952,\n",
       "         0.8       , -0.35969752],\n",
       "       [ 0.83184339,  0.38107871,  0.81833407, ..., -1.24205952,\n",
       "        -1.25      , -0.35969752]])"
      ]
     },
     "execution_count": 5,
     "metadata": {},
     "output_type": "execute_result"
    }
   ],
   "source": [
    "scaler = StandardScaler()\n",
    "inputScaler = scaler.fit_transform(X)\n",
    "inputScaler"
   ]
  },
  {
   "cell_type": "code",
   "execution_count": 6,
   "metadata": {
    "execution": {
     "iopub.execute_input": "2021-10-05T08:13:44.889820Z",
     "iopub.status.busy": "2021-10-05T08:13:44.888978Z",
     "iopub.status.idle": "2021-10-05T08:13:44.897553Z",
     "shell.execute_reply": "2021-10-05T08:13:44.896987Z",
     "shell.execute_reply.started": "2021-10-05T08:13:44.889758Z"
    }
   },
   "outputs": [],
   "source": [
    "# split features and label into training and test set\n",
    "X_train, x_test, y_train, y_test = train_test_split(X, y, test_size=0.3, random_state=10)"
   ]
  },
  {
   "cell_type": "code",
   "execution_count": 7,
   "metadata": {
    "execution": {
     "iopub.execute_input": "2021-10-05T08:13:44.899242Z",
     "iopub.status.busy": "2021-10-05T08:13:44.898678Z",
     "iopub.status.idle": "2021-10-05T08:13:44.915912Z",
     "shell.execute_reply": "2021-10-05T08:13:44.915060Z",
     "shell.execute_reply.started": "2021-10-05T08:13:44.899199Z"
    }
   },
   "outputs": [
    {
     "data": {
      "text/plain": [
       "KNeighborsClassifier(algorithm='auto', leaf_size=30, metric='minkowski',\n",
       "                     metric_params=None, n_jobs=None, n_neighbors=5, p=2,\n",
       "                     weights='uniform')"
      ]
     },
     "execution_count": 7,
     "metadata": {},
     "output_type": "execute_result"
    }
   ],
   "source": [
    "k = 5\n",
    "knn_model = KNeighborsClassifier(n_neighbors=k)\n",
    "knn_model.fit(X_train, y_train)"
   ]
  },
  {
   "cell_type": "code",
   "execution_count": 8,
   "metadata": {
    "execution": {
     "iopub.execute_input": "2021-10-05T08:13:44.917500Z",
     "iopub.status.busy": "2021-10-05T08:13:44.917269Z",
     "iopub.status.idle": "2021-10-05T08:13:44.948512Z",
     "shell.execute_reply": "2021-10-05T08:13:44.947554Z",
     "shell.execute_reply.started": "2021-10-05T08:13:44.917474Z"
    }
   },
   "outputs": [
    {
     "data": {
      "text/plain": [
       "array([-1, -1, -1, -1,  1, -1, -1,  1, -1, -1, -1, -1, -1,  1,  1,  1, -1,\n",
       "        1,  0, -1, -1, -1,  1,  0,  1, -1, -1,  1, -1,  1, -1,  1, -1,  1,\n",
       "       -1,  1, -1,  1, -1,  1,  1, -1,  1, -1,  1,  1,  1,  1, -1, -1, -1,\n",
       "        1,  0,  1, -1, -1, -1, -1,  1, -1, -1,  1, -1,  1,  1,  1,  1,  1,\n",
       "       -1,  0, -1, -1, -1, -1, -1, -1, -1, -1,  1,  1,  1,  1, -1, -1,  1,\n",
       "       -1, -1,  1, -1,  1, -1, -1, -1, -1,  1,  1, -1,  1, -1, -1,  0, -1,\n",
       "        1, -1,  1, -1, -1, -1,  0, -1,  1, -1,  0,  1, -1,  0,  1, -1,  1,\n",
       "       -1, -1, -1, -1, -1,  1,  1, -1, -1, -1,  1,  1, -1,  0,  1, -1,  1,\n",
       "        1,  1, -1, -1,  1, -1, -1,  1, -1, -1, -1,  1, -1,  1,  0,  1,  1,\n",
       "        0, -1, -1,  1,  1, -1,  1, -1,  1, -1, -1,  1,  1,  1,  1, -1, -1,\n",
       "        1, -1, -1, -1,  0,  1, -1,  1, -1,  1,  1,  0, -1, -1,  1,  1,  1,\n",
       "        0, -1, -1, -1, -1, -1, -1,  1,  1, -1,  1, -1, -1,  1, -1, -1, -1,\n",
       "        1,  0, -1,  1, -1,  1, -1, -1,  1, -1,  1,  1, -1,  1,  1, -1, -1,\n",
       "        1, -1,  1, -1, -1,  1,  0, -1,  1,  1, -1, -1, -1, -1, -1, -1,  1,\n",
       "       -1, -1,  0,  1, -1,  0,  1,  1,  1, -1,  1,  1, -1,  1,  1, -1,  1,\n",
       "       -1,  1,  1,  1,  1,  1, -1,  1,  1, -1, -1,  1,  1,  1, -1, -1,  1,\n",
       "       -1,  1,  1, -1, -1, -1, -1,  1, -1,  1,  1,  1,  1, -1,  1, -1,  1,\n",
       "        1, -1,  1, -1,  1, -1, -1, -1, -1, -1,  1,  1,  1,  1,  1,  1, -1,\n",
       "        1,  1,  1, -1,  1, -1, -1, -1,  1, -1, -1,  1,  1,  0,  0,  1, -1,\n",
       "        0,  1,  1,  1, -1,  1, -1, -1, -1, -1,  1, -1,  1,  0, -1,  1, -1,\n",
       "        1,  1,  1, -1,  1, -1,  1,  1,  1,  0,  1,  1, -1,  1, -1, -1,  1,\n",
       "       -1,  1, -1, -1,  0,  1,  0, -1, -1, -1,  1,  1, -1, -1, -1, -1,  1,\n",
       "       -1, -1, -1, -1, -1,  1, -1, -1,  1,  1, -1,  1,  1, -1,  1,  1,  1,\n",
       "        1, -1,  1, -1,  1,  0, -1, -1,  1,  0, -1,  1, -1, -1, -1],\n",
       "      dtype=int64)"
      ]
     },
     "execution_count": 8,
     "metadata": {},
     "output_type": "execute_result"
    }
   ],
   "source": [
    "# using knn_model to predict\n",
    "prediction = knn_model.predict(x_test)\n",
    "prediction"
   ]
  },
  {
   "cell_type": "code",
   "execution_count": 9,
   "metadata": {
    "execution": {
     "iopub.execute_input": "2021-10-05T08:13:44.950395Z",
     "iopub.status.busy": "2021-10-05T08:13:44.949808Z",
     "iopub.status.idle": "2021-10-05T08:13:44.957721Z",
     "shell.execute_reply": "2021-10-05T08:13:44.957066Z",
     "shell.execute_reply.started": "2021-10-05T08:13:44.950352Z"
    }
   },
   "outputs": [
    {
     "data": {
      "text/plain": [
       "0.8596059113300493"
      ]
     },
     "execution_count": 9,
     "metadata": {},
     "output_type": "execute_result"
    }
   ],
   "source": [
    "score = accuracy_score(y_test, prediction)\n",
    "score"
   ]
  },
  {
   "cell_type": "code",
   "execution_count": 10,
   "metadata": {
    "execution": {
     "iopub.execute_input": "2021-10-05T08:13:44.960320Z",
     "iopub.status.busy": "2021-10-05T08:13:44.960102Z",
     "iopub.status.idle": "2021-10-05T08:13:44.966623Z",
     "shell.execute_reply": "2021-10-05T08:13:44.966109Z",
     "shell.execute_reply.started": "2021-10-05T08:13:44.960295Z"
    }
   },
   "outputs": [
    {
     "name": "stdout",
     "output_type": "stream",
     "text": [
      "the predicton accuracy of the model is 85%\n"
     ]
    }
   ],
   "source": [
    "print(\"the predicton accuracy of the model is \" + str(int(score * 100)) + '%')"
   ]
  },
  {
   "cell_type": "code",
   "execution_count": 11,
   "metadata": {
    "execution": {
     "iopub.execute_input": "2021-10-05T08:13:44.968238Z",
     "iopub.status.busy": "2021-10-05T08:13:44.967568Z",
     "iopub.status.idle": "2021-10-05T08:13:44.980439Z",
     "shell.execute_reply": "2021-10-05T08:13:44.979739Z",
     "shell.execute_reply.started": "2021-10-05T08:13:44.968206Z"
    }
   },
   "outputs": [
    {
     "data": {
      "text/plain": [
       "0.8579800945166355"
      ]
     },
     "execution_count": 11,
     "metadata": {},
     "output_type": "execute_result"
    }
   ],
   "source": [
    "f1score = f1_score(y_test, prediction, average='weighted')\n",
    "f1score"
   ]
  },
  {
   "cell_type": "code",
   "execution_count": 12,
   "metadata": {
    "execution": {
     "iopub.execute_input": "2021-10-05T08:13:44.982128Z",
     "iopub.status.busy": "2021-10-05T08:13:44.981715Z",
     "iopub.status.idle": "2021-10-05T08:13:44.991238Z",
     "shell.execute_reply": "2021-10-05T08:13:44.990381Z",
     "shell.execute_reply.started": "2021-10-05T08:13:44.982088Z"
    }
   },
   "outputs": [
    {
     "data": {
      "text/plain": [
       "0.8582634996130835"
      ]
     },
     "execution_count": 12,
     "metadata": {},
     "output_type": "execute_result"
    }
   ],
   "source": [
    "precision = precision_score(y_test, prediction, average=\"weighted\")\n",
    "precision"
   ]
  },
  {
   "cell_type": "code",
   "execution_count": 13,
   "metadata": {
    "execution": {
     "iopub.execute_input": "2021-10-05T08:13:44.993158Z",
     "iopub.status.busy": "2021-10-05T08:13:44.992497Z",
     "iopub.status.idle": "2021-10-05T08:13:45.116224Z",
     "shell.execute_reply": "2021-10-05T08:13:45.115590Z",
     "shell.execute_reply.started": "2021-10-05T08:13:44.993112Z"
    }
   },
   "outputs": [
    {
     "data": {
      "text/plain": [
       "array([[640,  11,  51],\n",
       "       [ 28,  43,  32],\n",
       "       [ 62,  18, 468]], dtype=int64)"
      ]
     },
     "execution_count": 13,
     "metadata": {},
     "output_type": "execute_result"
    }
   ],
   "source": [
    "# confusion matrix\n",
    "validation = cross_val_predict(knn_model, inputScaler, y, cv=10)\n",
    "con_matrix = confusion_matrix(y, validation)\n",
    "con_matrix"
   ]
  },
  {
   "cell_type": "code",
   "execution_count": 15,
   "metadata": {},
   "outputs": [],
   "source": [
    "pickle.dump(knn_model, open('knn_model.pkl', 'wb'))"
   ]
  },
  {
   "cell_type": "markdown",
   "metadata": {},
   "source": []
  },
  {
   "cell_type": "markdown",
   "metadata": {},
   "source": []
  },
  {
   "cell_type": "markdown",
   "metadata": {},
   "source": []
  }
 ],
 "metadata": {
  "kernelspec": {
   "display_name": "Python 3",
   "language": "python",
   "name": "python3"
  },
  "language_info": {
   "codemirror_mode": {
    "name": "ipython",
    "version": 3
   },
   "file_extension": ".py",
   "mimetype": "text/x-python",
   "name": "python",
   "nbconvert_exporter": "python",
   "pygments_lexer": "ipython3",
   "version": "3.7.6"
  }
 },
 "nbformat": 4,
 "nbformat_minor": 4
}
