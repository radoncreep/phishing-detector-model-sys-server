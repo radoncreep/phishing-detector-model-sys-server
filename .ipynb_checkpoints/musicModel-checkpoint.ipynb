{
 "cells": [
  {
   "cell_type": "code",
   "execution_count": 2,
   "metadata": {},
   "outputs": [],
   "source": [
    "import pandas as pd\n",
    "from sklearn.tree import DecisionTreeClassifier\n",
    "from sklearn.model_selection import train_test_split\n",
    "from sklearn.metrics import accuracy_score\n",
    "import pickle\n",
    "\n",
    "music_data = pd.read_csv('music.csv')\n",
    "\n",
    "# creating a new dataset (input set) and assingning it to X not modifying\n",
    "X = music_data.drop(columns=['genre'])\n",
    "\n",
    "# creating the output dataset as a new dataset from the original\n",
    "y = music_data['genre']\n",
    "\n",
    "# splitting training and testing dataset, spltting  both i/p and o/p into 2 sets\n",
    "# function for splitting the dataset into 2 sets which returns a tuple\n",
    "X_train, X_test, y_train, y_test = train_test_split(X, y, test_size=0.2)\n",
    "\n",
    "# using decision tree for learning and prediction\n",
    "# creating a model\n",
    "model = DecisionTreeClassifier()\n",
    "\n",
    "# train it to learn patterns in the data, the method takes 2 dataset the i/p and o/p set\n",
    "model.fit(X_train, y_train)\n",
    "\n",
    "# making predictions with model, it takes a 2d array\n",
    "predictions = model.predict(X_test)\n",
    "\n",
    "pickle.dump(model, open('musicmodel.pkl', 'wb'))\n",
    "# score = accuracy_score(y_test, predictions)\n",
    "# score"
   ]
  }
 ],
 "metadata": {
  "kernelspec": {
   "display_name": "Python 3",
   "language": "python",
   "name": "python3"
  },
  "language_info": {
   "codemirror_mode": {
    "name": "ipython",
    "version": 3
   },
   "file_extension": ".py",
   "mimetype": "text/x-python",
   "name": "python",
   "nbconvert_exporter": "python",
   "pygments_lexer": "ipython3",
   "version": "3.7.6"
  }
 },
 "nbformat": 4,
 "nbformat_minor": 4
}
