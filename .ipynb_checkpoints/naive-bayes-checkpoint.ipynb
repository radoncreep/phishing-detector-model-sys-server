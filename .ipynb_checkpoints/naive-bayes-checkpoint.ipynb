{
 "cells": [
  {
   "cell_type": "code",
   "execution_count": 3,
   "metadata": {
    "execution": {
     "iopub.execute_input": "2021-10-05T08:12:34.879436Z",
     "iopub.status.busy": "2021-10-05T08:12:34.878396Z",
     "iopub.status.idle": "2021-10-05T08:12:35.945884Z",
     "shell.execute_reply": "2021-10-05T08:12:35.944919Z",
     "shell.execute_reply.started": "2021-10-05T08:12:34.879330Z"
    }
   },
   "outputs": [],
   "source": [
    "import numpy as np\n",
    "import pandas as pd\n",
    "import matplotlib.pyplot as plt\n",
    "import seaborn as sns\n",
    "from sklearn.preprocessing import LabelEncoder\n",
    "from sklearn.model_selection import train_test_split\n",
    "from sklearn.naive_bayes import MultinomialNB\n",
    "from sklearn.metrics import matthews_corrcoef\n",
    "from sklearn.metrics import accuracy_score, precision_score, precision_recall_fscore_support\n",
    "from sklearn.metrics import f1_score\n",
    "from sklearn.metrics import confusion_matrix,classification_report\n",
    "import pickle"
   ]
  },
  {
   "cell_type": "code",
   "execution_count": 4,
   "metadata": {
    "execution": {
     "iopub.execute_input": "2021-10-05T08:12:35.948133Z",
     "iopub.status.busy": "2021-10-05T08:12:35.947821Z",
     "iopub.status.idle": "2021-10-05T08:12:35.992913Z",
     "shell.execute_reply": "2021-10-05T08:12:35.991991Z",
     "shell.execute_reply.started": "2021-10-05T08:12:35.948101Z"
    }
   },
   "outputs": [
    {
     "ename": "FileNotFoundError",
     "evalue": "[Errno 2] File ../input/website-phishing-data-set/Website Phishing.csv does not exist: '../input/website-phishing-data-set/Website Phishing.csv'",
     "output_type": "error",
     "traceback": [
      "\u001b[1;31m---------------------------------------------------------------------------\u001b[0m",
      "\u001b[1;31mFileNotFoundError\u001b[0m                         Traceback (most recent call last)",
      "\u001b[1;32m<ipython-input-4-12f4ce6cc115>\u001b[0m in \u001b[0;36m<module>\u001b[1;34m\u001b[0m\n\u001b[1;32m----> 1\u001b[1;33m \u001b[0mdf\u001b[0m \u001b[1;33m=\u001b[0m \u001b[0mpd\u001b[0m\u001b[1;33m.\u001b[0m\u001b[0mread_csv\u001b[0m\u001b[1;33m(\u001b[0m\u001b[1;34m'../input/website-phishing-data-set/Website Phishing.csv'\u001b[0m\u001b[1;33m)\u001b[0m\u001b[1;33m\u001b[0m\u001b[1;33m\u001b[0m\u001b[0m\n\u001b[0m\u001b[0;32m      2\u001b[0m \u001b[0mdf\u001b[0m\u001b[1;33m.\u001b[0m\u001b[0mhead\u001b[0m\u001b[1;33m(\u001b[0m\u001b[1;36m10\u001b[0m\u001b[1;33m)\u001b[0m\u001b[1;33m\u001b[0m\u001b[1;33m\u001b[0m\u001b[0m\n",
      "\u001b[1;32m~\\anaconda3\\lib\\site-packages\\pandas\\io\\parsers.py\u001b[0m in \u001b[0;36mparser_f\u001b[1;34m(filepath_or_buffer, sep, delimiter, header, names, index_col, usecols, squeeze, prefix, mangle_dupe_cols, dtype, engine, converters, true_values, false_values, skipinitialspace, skiprows, skipfooter, nrows, na_values, keep_default_na, na_filter, verbose, skip_blank_lines, parse_dates, infer_datetime_format, keep_date_col, date_parser, dayfirst, cache_dates, iterator, chunksize, compression, thousands, decimal, lineterminator, quotechar, quoting, doublequote, escapechar, comment, encoding, dialect, error_bad_lines, warn_bad_lines, delim_whitespace, low_memory, memory_map, float_precision)\u001b[0m\n\u001b[0;32m    674\u001b[0m         )\n\u001b[0;32m    675\u001b[0m \u001b[1;33m\u001b[0m\u001b[0m\n\u001b[1;32m--> 676\u001b[1;33m         \u001b[1;32mreturn\u001b[0m \u001b[0m_read\u001b[0m\u001b[1;33m(\u001b[0m\u001b[0mfilepath_or_buffer\u001b[0m\u001b[1;33m,\u001b[0m \u001b[0mkwds\u001b[0m\u001b[1;33m)\u001b[0m\u001b[1;33m\u001b[0m\u001b[1;33m\u001b[0m\u001b[0m\n\u001b[0m\u001b[0;32m    677\u001b[0m \u001b[1;33m\u001b[0m\u001b[0m\n\u001b[0;32m    678\u001b[0m     \u001b[0mparser_f\u001b[0m\u001b[1;33m.\u001b[0m\u001b[0m__name__\u001b[0m \u001b[1;33m=\u001b[0m \u001b[0mname\u001b[0m\u001b[1;33m\u001b[0m\u001b[1;33m\u001b[0m\u001b[0m\n",
      "\u001b[1;32m~\\anaconda3\\lib\\site-packages\\pandas\\io\\parsers.py\u001b[0m in \u001b[0;36m_read\u001b[1;34m(filepath_or_buffer, kwds)\u001b[0m\n\u001b[0;32m    446\u001b[0m \u001b[1;33m\u001b[0m\u001b[0m\n\u001b[0;32m    447\u001b[0m     \u001b[1;31m# Create the parser.\u001b[0m\u001b[1;33m\u001b[0m\u001b[1;33m\u001b[0m\u001b[1;33m\u001b[0m\u001b[0m\n\u001b[1;32m--> 448\u001b[1;33m     \u001b[0mparser\u001b[0m \u001b[1;33m=\u001b[0m \u001b[0mTextFileReader\u001b[0m\u001b[1;33m(\u001b[0m\u001b[0mfp_or_buf\u001b[0m\u001b[1;33m,\u001b[0m \u001b[1;33m**\u001b[0m\u001b[0mkwds\u001b[0m\u001b[1;33m)\u001b[0m\u001b[1;33m\u001b[0m\u001b[1;33m\u001b[0m\u001b[0m\n\u001b[0m\u001b[0;32m    449\u001b[0m \u001b[1;33m\u001b[0m\u001b[0m\n\u001b[0;32m    450\u001b[0m     \u001b[1;32mif\u001b[0m \u001b[0mchunksize\u001b[0m \u001b[1;32mor\u001b[0m \u001b[0miterator\u001b[0m\u001b[1;33m:\u001b[0m\u001b[1;33m\u001b[0m\u001b[1;33m\u001b[0m\u001b[0m\n",
      "\u001b[1;32m~\\anaconda3\\lib\\site-packages\\pandas\\io\\parsers.py\u001b[0m in \u001b[0;36m__init__\u001b[1;34m(self, f, engine, **kwds)\u001b[0m\n\u001b[0;32m    878\u001b[0m             \u001b[0mself\u001b[0m\u001b[1;33m.\u001b[0m\u001b[0moptions\u001b[0m\u001b[1;33m[\u001b[0m\u001b[1;34m\"has_index_names\"\u001b[0m\u001b[1;33m]\u001b[0m \u001b[1;33m=\u001b[0m \u001b[0mkwds\u001b[0m\u001b[1;33m[\u001b[0m\u001b[1;34m\"has_index_names\"\u001b[0m\u001b[1;33m]\u001b[0m\u001b[1;33m\u001b[0m\u001b[1;33m\u001b[0m\u001b[0m\n\u001b[0;32m    879\u001b[0m \u001b[1;33m\u001b[0m\u001b[0m\n\u001b[1;32m--> 880\u001b[1;33m         \u001b[0mself\u001b[0m\u001b[1;33m.\u001b[0m\u001b[0m_make_engine\u001b[0m\u001b[1;33m(\u001b[0m\u001b[0mself\u001b[0m\u001b[1;33m.\u001b[0m\u001b[0mengine\u001b[0m\u001b[1;33m)\u001b[0m\u001b[1;33m\u001b[0m\u001b[1;33m\u001b[0m\u001b[0m\n\u001b[0m\u001b[0;32m    881\u001b[0m \u001b[1;33m\u001b[0m\u001b[0m\n\u001b[0;32m    882\u001b[0m     \u001b[1;32mdef\u001b[0m \u001b[0mclose\u001b[0m\u001b[1;33m(\u001b[0m\u001b[0mself\u001b[0m\u001b[1;33m)\u001b[0m\u001b[1;33m:\u001b[0m\u001b[1;33m\u001b[0m\u001b[1;33m\u001b[0m\u001b[0m\n",
      "\u001b[1;32m~\\anaconda3\\lib\\site-packages\\pandas\\io\\parsers.py\u001b[0m in \u001b[0;36m_make_engine\u001b[1;34m(self, engine)\u001b[0m\n\u001b[0;32m   1112\u001b[0m     \u001b[1;32mdef\u001b[0m \u001b[0m_make_engine\u001b[0m\u001b[1;33m(\u001b[0m\u001b[0mself\u001b[0m\u001b[1;33m,\u001b[0m \u001b[0mengine\u001b[0m\u001b[1;33m=\u001b[0m\u001b[1;34m\"c\"\u001b[0m\u001b[1;33m)\u001b[0m\u001b[1;33m:\u001b[0m\u001b[1;33m\u001b[0m\u001b[1;33m\u001b[0m\u001b[0m\n\u001b[0;32m   1113\u001b[0m         \u001b[1;32mif\u001b[0m \u001b[0mengine\u001b[0m \u001b[1;33m==\u001b[0m \u001b[1;34m\"c\"\u001b[0m\u001b[1;33m:\u001b[0m\u001b[1;33m\u001b[0m\u001b[1;33m\u001b[0m\u001b[0m\n\u001b[1;32m-> 1114\u001b[1;33m             \u001b[0mself\u001b[0m\u001b[1;33m.\u001b[0m\u001b[0m_engine\u001b[0m \u001b[1;33m=\u001b[0m \u001b[0mCParserWrapper\u001b[0m\u001b[1;33m(\u001b[0m\u001b[0mself\u001b[0m\u001b[1;33m.\u001b[0m\u001b[0mf\u001b[0m\u001b[1;33m,\u001b[0m \u001b[1;33m**\u001b[0m\u001b[0mself\u001b[0m\u001b[1;33m.\u001b[0m\u001b[0moptions\u001b[0m\u001b[1;33m)\u001b[0m\u001b[1;33m\u001b[0m\u001b[1;33m\u001b[0m\u001b[0m\n\u001b[0m\u001b[0;32m   1115\u001b[0m         \u001b[1;32melse\u001b[0m\u001b[1;33m:\u001b[0m\u001b[1;33m\u001b[0m\u001b[1;33m\u001b[0m\u001b[0m\n\u001b[0;32m   1116\u001b[0m             \u001b[1;32mif\u001b[0m \u001b[0mengine\u001b[0m \u001b[1;33m==\u001b[0m \u001b[1;34m\"python\"\u001b[0m\u001b[1;33m:\u001b[0m\u001b[1;33m\u001b[0m\u001b[1;33m\u001b[0m\u001b[0m\n",
      "\u001b[1;32m~\\anaconda3\\lib\\site-packages\\pandas\\io\\parsers.py\u001b[0m in \u001b[0;36m__init__\u001b[1;34m(self, src, **kwds)\u001b[0m\n\u001b[0;32m   1889\u001b[0m         \u001b[0mkwds\u001b[0m\u001b[1;33m[\u001b[0m\u001b[1;34m\"usecols\"\u001b[0m\u001b[1;33m]\u001b[0m \u001b[1;33m=\u001b[0m \u001b[0mself\u001b[0m\u001b[1;33m.\u001b[0m\u001b[0musecols\u001b[0m\u001b[1;33m\u001b[0m\u001b[1;33m\u001b[0m\u001b[0m\n\u001b[0;32m   1890\u001b[0m \u001b[1;33m\u001b[0m\u001b[0m\n\u001b[1;32m-> 1891\u001b[1;33m         \u001b[0mself\u001b[0m\u001b[1;33m.\u001b[0m\u001b[0m_reader\u001b[0m \u001b[1;33m=\u001b[0m \u001b[0mparsers\u001b[0m\u001b[1;33m.\u001b[0m\u001b[0mTextReader\u001b[0m\u001b[1;33m(\u001b[0m\u001b[0msrc\u001b[0m\u001b[1;33m,\u001b[0m \u001b[1;33m**\u001b[0m\u001b[0mkwds\u001b[0m\u001b[1;33m)\u001b[0m\u001b[1;33m\u001b[0m\u001b[1;33m\u001b[0m\u001b[0m\n\u001b[0m\u001b[0;32m   1892\u001b[0m         \u001b[0mself\u001b[0m\u001b[1;33m.\u001b[0m\u001b[0munnamed_cols\u001b[0m \u001b[1;33m=\u001b[0m \u001b[0mself\u001b[0m\u001b[1;33m.\u001b[0m\u001b[0m_reader\u001b[0m\u001b[1;33m.\u001b[0m\u001b[0munnamed_cols\u001b[0m\u001b[1;33m\u001b[0m\u001b[1;33m\u001b[0m\u001b[0m\n\u001b[0;32m   1893\u001b[0m \u001b[1;33m\u001b[0m\u001b[0m\n",
      "\u001b[1;32mpandas\\_libs\\parsers.pyx\u001b[0m in \u001b[0;36mpandas._libs.parsers.TextReader.__cinit__\u001b[1;34m()\u001b[0m\n",
      "\u001b[1;32mpandas\\_libs\\parsers.pyx\u001b[0m in \u001b[0;36mpandas._libs.parsers.TextReader._setup_parser_source\u001b[1;34m()\u001b[0m\n",
      "\u001b[1;31mFileNotFoundError\u001b[0m: [Errno 2] File ../input/website-phishing-data-set/Website Phishing.csv does not exist: '../input/website-phishing-data-set/Website Phishing.csv'"
     ]
    }
   ],
   "source": [
    "df = pd.read_csv('../input/website-phishing-data-set/Website Phishing.csv')\n",
    "df.head(10)\n"
   ]
  },
  {
   "cell_type": "code",
   "execution_count": 3,
   "metadata": {
    "execution": {
     "iopub.execute_input": "2021-10-05T08:12:35.994748Z",
     "iopub.status.busy": "2021-10-05T08:12:35.994266Z",
     "iopub.status.idle": "2021-10-05T08:12:36.010417Z",
     "shell.execute_reply": "2021-10-05T08:12:36.009272Z",
     "shell.execute_reply.started": "2021-10-05T08:12:35.994699Z"
    }
   },
   "outputs": [],
   "source": [
    "suspicious = len(df[df.Result==0])\n",
    "legitimate = len(df[df.Result==1])\n",
    "phished = len(df[df.Result==-1])\n",
    "\n",
    "# based on number of each sample category from the label or output\n",
    "print('total number of suspicious sites in dataset ', suspicious)\n",
    "print('total number of legitimate sites in dataset ', legitimate)\n",
    "print('total number of phished sites in dataset ', phished)"
   ]
  },
  {
   "cell_type": "code",
   "execution_count": 4,
   "metadata": {
    "execution": {
     "iopub.execute_input": "2021-10-05T08:12:36.013526Z",
     "iopub.status.busy": "2021-10-05T08:12:36.013185Z",
     "iopub.status.idle": "2021-10-05T08:12:36.259189Z",
     "shell.execute_reply": "2021-10-05T08:12:36.258193Z",
     "shell.execute_reply.started": "2021-10-05T08:12:36.013482Z"
    }
   },
   "outputs": [],
   "source": [
    "sns.countplot(df['Result'])"
   ]
  },
  {
   "cell_type": "code",
   "execution_count": 5,
   "metadata": {
    "execution": {
     "iopub.execute_input": "2021-10-05T08:12:36.260926Z",
     "iopub.status.busy": "2021-10-05T08:12:36.260620Z",
     "iopub.status.idle": "2021-10-05T08:12:36.275781Z",
     "shell.execute_reply": "2021-10-05T08:12:36.274925Z",
     "shell.execute_reply.started": "2021-10-05T08:12:36.260889Z"
    }
   },
   "outputs": [],
   "source": [
    "df.info()"
   ]
  },
  {
   "cell_type": "code",
   "execution_count": 6,
   "metadata": {
    "execution": {
     "iopub.execute_input": "2021-10-05T08:12:36.277764Z",
     "iopub.status.busy": "2021-10-05T08:12:36.277231Z",
     "iopub.status.idle": "2021-10-05T08:12:36.324455Z",
     "shell.execute_reply": "2021-10-05T08:12:36.323519Z",
     "shell.execute_reply.started": "2021-10-05T08:12:36.277728Z"
    }
   },
   "outputs": [],
   "source": [
    "df.describe()"
   ]
  },
  {
   "cell_type": "code",
   "execution_count": 7,
   "metadata": {
    "execution": {
     "iopub.execute_input": "2021-10-05T08:12:36.325682Z",
     "iopub.status.busy": "2021-10-05T08:12:36.325471Z",
     "iopub.status.idle": "2021-10-05T08:12:36.331340Z",
     "shell.execute_reply": "2021-10-05T08:12:36.330401Z",
     "shell.execute_reply.started": "2021-10-05T08:12:36.325657Z"
    }
   },
   "outputs": [],
   "source": [
    "X = df.drop(columns=['Result']).values\n",
    "y = df['Result'].values"
   ]
  },
  {
   "cell_type": "code",
   "execution_count": 8,
   "metadata": {
    "execution": {
     "iopub.execute_input": "2021-10-05T08:12:36.333040Z",
     "iopub.status.busy": "2021-10-05T08:12:36.332813Z",
     "iopub.status.idle": "2021-10-05T08:12:36.345641Z",
     "shell.execute_reply": "2021-10-05T08:12:36.344871Z",
     "shell.execute_reply.started": "2021-10-05T08:12:36.333014Z"
    }
   },
   "outputs": [],
   "source": [
    "X"
   ]
  },
  {
   "cell_type": "code",
   "execution_count": 9,
   "metadata": {
    "execution": {
     "iopub.execute_input": "2021-10-05T08:12:36.347179Z",
     "iopub.status.busy": "2021-10-05T08:12:36.346935Z",
     "iopub.status.idle": "2021-10-05T08:12:36.357558Z",
     "shell.execute_reply": "2021-10-05T08:12:36.356568Z",
     "shell.execute_reply.started": "2021-10-05T08:12:36.347151Z"
    }
   },
   "outputs": [],
   "source": [
    "y"
   ]
  },
  {
   "cell_type": "code",
   "execution_count": 10,
   "metadata": {
    "execution": {
     "iopub.execute_input": "2021-10-05T08:12:36.360946Z",
     "iopub.status.busy": "2021-10-05T08:12:36.360674Z",
     "iopub.status.idle": "2021-10-05T08:12:36.413723Z",
     "shell.execute_reply": "2021-10-05T08:12:36.412907Z",
     "shell.execute_reply.started": "2021-10-05T08:12:36.360915Z"
    }
   },
   "outputs": [],
   "source": [
    "encoder = LabelEncoder()\n",
    "y = encoder.fit_transform(y)\n",
    "\n",
    "for i in range(0, len(X)):\n",
    "    X[i] = encoder.fit_transform(X[i])"
   ]
  },
  {
   "cell_type": "code",
   "execution_count": 11,
   "metadata": {
    "execution": {
     "iopub.execute_input": "2021-10-05T08:12:36.415458Z",
     "iopub.status.busy": "2021-10-05T08:12:36.415227Z",
     "iopub.status.idle": "2021-10-05T08:12:36.969458Z",
     "shell.execute_reply": "2021-10-05T08:12:36.968650Z",
     "shell.execute_reply.started": "2021-10-05T08:12:36.415427Z"
    }
   },
   "outputs": [],
   "source": [
    "sns.heatmap(df.isnull(), cmap=\"Greens\")"
   ]
  },
  {
   "cell_type": "code",
   "execution_count": 12,
   "metadata": {
    "execution": {
     "iopub.execute_input": "2021-10-05T08:12:36.971477Z",
     "iopub.status.busy": "2021-10-05T08:12:36.971027Z",
     "iopub.status.idle": "2021-10-05T08:12:36.979417Z",
     "shell.execute_reply": "2021-10-05T08:12:36.978498Z",
     "shell.execute_reply.started": "2021-10-05T08:12:36.971355Z"
    }
   },
   "outputs": [],
   "source": [
    "X_train,x_test,y_train,y_test=train_test_split(X,y,test_size=0.3,random_state=10)\n"
   ]
  },
  {
   "cell_type": "code",
   "execution_count": 13,
   "metadata": {
    "execution": {
     "iopub.execute_input": "2021-10-05T08:12:36.981207Z",
     "iopub.status.busy": "2021-10-05T08:12:36.980839Z",
     "iopub.status.idle": "2021-10-05T08:12:36.996976Z",
     "shell.execute_reply": "2021-10-05T08:12:36.995785Z",
     "shell.execute_reply.started": "2021-10-05T08:12:36.981163Z"
    }
   },
   "outputs": [],
   "source": [
    "nb_model=MultinomialNB(alpha=1.0)\n",
    "nb_model.fit(X_train,y_train)"
   ]
  },
  {
   "cell_type": "code",
   "execution_count": 14,
   "metadata": {
    "execution": {
     "iopub.execute_input": "2021-10-05T08:12:36.999233Z",
     "iopub.status.busy": "2021-10-05T08:12:36.998893Z",
     "iopub.status.idle": "2021-10-05T08:12:37.009853Z",
     "shell.execute_reply": "2021-10-05T08:12:37.009032Z",
     "shell.execute_reply.started": "2021-10-05T08:12:36.999189Z"
    }
   },
   "outputs": [],
   "source": [
    "def separate_by_class(dataset):\n",
    "    separated = dict()\n",
    "    for i in range(len(dataset)):\n",
    "        vector = dataset[i]\n",
    "        class_value = vector[-1]\n",
    "        if (class_value not in separated):\n",
    "            separated[class_value] = list()\n",
    "            separated[class_value].append(vector)\n",
    "    return separated"
   ]
  },
  {
   "cell_type": "code",
   "execution_count": 15,
   "metadata": {
    "execution": {
     "iopub.execute_input": "2021-10-05T08:12:37.011566Z",
     "iopub.status.busy": "2021-10-05T08:12:37.011250Z",
     "iopub.status.idle": "2021-10-05T08:12:37.029102Z",
     "shell.execute_reply": "2021-10-05T08:12:37.028005Z",
     "shell.execute_reply.started": "2021-10-05T08:12:37.011527Z"
    }
   },
   "outputs": [],
   "source": [
    "prediction = nb_model.predict(x_test)\n",
    "prediction"
   ]
  },
  {
   "cell_type": "code",
   "execution_count": 16,
   "metadata": {
    "execution": {
     "iopub.execute_input": "2021-10-05T08:12:37.031114Z",
     "iopub.status.busy": "2021-10-05T08:12:37.030407Z",
     "iopub.status.idle": "2021-10-05T08:12:37.342364Z",
     "shell.execute_reply": "2021-10-05T08:12:37.341598Z",
     "shell.execute_reply.started": "2021-10-05T08:12:37.031068Z"
    }
   },
   "outputs": [],
   "source": [
    "cm=confusion_matrix(y_test,prediction)\n",
    "sns.heatmap(cm,annot=True)"
   ]
  },
  {
   "cell_type": "code",
   "execution_count": 17,
   "metadata": {
    "execution": {
     "iopub.execute_input": "2021-10-05T08:12:37.343904Z",
     "iopub.status.busy": "2021-10-05T08:12:37.343592Z",
     "iopub.status.idle": "2021-10-05T08:12:37.351983Z",
     "shell.execute_reply": "2021-10-05T08:12:37.351097Z",
     "shell.execute_reply.started": "2021-10-05T08:12:37.343864Z"
    }
   },
   "outputs": [],
   "source": [
    "f1score = f1_score(y_test, prediction, average='weighted')\n",
    "print('the f1 score is ', f1score)"
   ]
  },
  {
   "cell_type": "code",
   "execution_count": 18,
   "metadata": {
    "execution": {
     "iopub.execute_input": "2021-10-05T08:12:37.353972Z",
     "iopub.status.busy": "2021-10-05T08:12:37.353238Z",
     "iopub.status.idle": "2021-10-05T08:12:37.365048Z",
     "shell.execute_reply": "2021-10-05T08:12:37.364062Z",
     "shell.execute_reply.started": "2021-10-05T08:12:37.353927Z"
    }
   },
   "outputs": [],
   "source": [
    "precision = precision_score(y_test, prediction, average=\"weighted\")\n",
    "precision"
   ]
  },
  {
   "cell_type": "code",
   "execution_count": 19,
   "metadata": {
    "execution": {
     "iopub.execute_input": "2021-10-05T08:12:37.366469Z",
     "iopub.status.busy": "2021-10-05T08:12:37.366238Z",
     "iopub.status.idle": "2021-10-05T08:12:37.379978Z",
     "shell.execute_reply": "2021-10-05T08:12:37.379210Z",
     "shell.execute_reply.started": "2021-10-05T08:12:37.366442Z"
    }
   },
   "outputs": [],
   "source": [
    "recall = precision_recall_fscore_support(y_test, prediction, average=\"weighted\")\n",
    "recall"
   ]
  },
  {
   "cell_type": "code",
   "execution_count": 20,
   "metadata": {
    "execution": {
     "iopub.execute_input": "2021-10-05T08:12:37.381870Z",
     "iopub.status.busy": "2021-10-05T08:12:37.381204Z",
     "iopub.status.idle": "2021-10-05T08:12:37.391282Z",
     "shell.execute_reply": "2021-10-05T08:12:37.390327Z",
     "shell.execute_reply.started": "2021-10-05T08:12:37.381834Z"
    }
   },
   "outputs": [],
   "source": [
    "m_corr_coef = matthews_corrcoef(y_test, prediction)\n",
    "print('the matthews correlation coefficient is ', m_corr_coef)"
   ]
  },
  {
   "cell_type": "code",
   "execution_count": 2,
   "metadata": {
    "execution": {
     "iopub.execute_input": "2021-10-05T08:12:37.392725Z",
     "iopub.status.busy": "2021-10-05T08:12:37.392439Z",
     "iopub.status.idle": "2021-10-05T08:12:37.402611Z",
     "shell.execute_reply": "2021-10-05T08:12:37.401741Z",
     "shell.execute_reply.started": "2021-10-05T08:12:37.392663Z"
    }
   },
   "outputs": [
    {
     "ename": "NameError",
     "evalue": "name 'accuracy_score' is not defined",
     "output_type": "error",
     "traceback": [
      "\u001b[1;31m---------------------------------------------------------------------------\u001b[0m",
      "\u001b[1;31mNameError\u001b[0m                                 Traceback (most recent call last)",
      "\u001b[1;32m<ipython-input-2-952d90d04179>\u001b[0m in \u001b[0;36m<module>\u001b[1;34m\u001b[0m\n\u001b[1;32m----> 1\u001b[1;33m \u001b[0mscore\u001b[0m \u001b[1;33m=\u001b[0m \u001b[0maccuracy_score\u001b[0m\u001b[1;33m(\u001b[0m\u001b[0my_test\u001b[0m\u001b[1;33m,\u001b[0m \u001b[0mprediction\u001b[0m\u001b[1;33m)\u001b[0m\u001b[1;33m\u001b[0m\u001b[1;33m\u001b[0m\u001b[0m\n\u001b[0m\u001b[0;32m      2\u001b[0m \u001b[0mprint\u001b[0m\u001b[1;33m(\u001b[0m\u001b[1;34m'the prediction accuracy is '\u001b[0m\u001b[1;33m,\u001b[0m \u001b[0mscore\u001b[0m\u001b[1;33m)\u001b[0m\u001b[1;33m\u001b[0m\u001b[1;33m\u001b[0m\u001b[0m\n",
      "\u001b[1;31mNameError\u001b[0m: name 'accuracy_score' is not defined"
     ]
    }
   ],
   "source": [
    "score = accuracy_score(y_test, prediction)\n",
    "print('the prediction accuracy is ', score)"
   ]
  },
  {
   "cell_type": "code",
   "execution_count": null,
   "metadata": {},
   "outputs": [],
   "source": []
  }
 ],
 "metadata": {
  "kernelspec": {
   "display_name": "Python 3",
   "language": "python",
   "name": "python3"
  },
  "language_info": {
   "codemirror_mode": {
    "name": "ipython",
    "version": 3
   },
   "file_extension": ".py",
   "mimetype": "text/x-python",
   "name": "python",
   "nbconvert_exporter": "python",
   "pygments_lexer": "ipython3",
   "version": "3.7.6"
  }
 },
 "nbformat": 4,
 "nbformat_minor": 4
}
