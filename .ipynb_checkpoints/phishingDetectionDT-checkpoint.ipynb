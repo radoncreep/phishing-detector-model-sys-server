{
 "cells": [
  {
   "cell_type": "code",
   "execution_count": 34,
   "metadata": {
    "scrolled": true
   },
   "outputs": [
    {
     "data": {
      "text/plain": [
       "0.8745387453874539"
      ]
     },
     "execution_count": 34,
     "metadata": {},
     "output_type": "execute_result"
    }
   ],
   "source": [
    "import pandas as pd\n",
    "from sklearn.tree import DecisionTreeClassifier\n",
    "from sklearn.model_selection import train_test_split\n",
    "from sklearn.metrics import accuracy_score\n",
    "\n",
    "phishing_data = pd.read_csv('webphishdata.csv')\n",
    "\n",
    "num_of_suspicious = len(phishing_data[phishing_data.Result==0])\n",
    "num_of_legitimate = len(phishing_data[phishing_data.Result==1])\n",
    "num_of_phished = len(phishing_data[phishing_data.Result==-1])\n",
    "phishing_data.head(10)\n",
    "\n",
    "# creating a new input dataset\n",
    "X = phishing_data.drop(columns=['Result'])\n",
    "\n",
    "# creating a new output dataset from the original\n",
    "y = phishing_data['Result']\n",
    "\n",
    "# splitting datasets into training and testing data\n",
    "X_train, X_test, y_train, y_test = train_test_split(X, y, test_size=0.2)\n",
    "\n",
    "# create decision tree model\n",
    "model = DecisionTreeClassifier()\n",
    "\n",
    "# train model\n",
    "model.fit(X_train, y_train)\n",
    "\n",
    "# prediction\n",
    "predictions = model.predict(X_test)\n",
    "# predictions\n",
    "\n",
    "score = accuracy_score(y_test, predictions)\n",
    "score\n",
    "\n",
    "\n",
    "\n",
    "# phishing_data.info()\n",
    "# phishing_data.describe()"
   ]
  },
  {
   "cell_type": "code",
   "execution_count": null,
   "metadata": {},
   "outputs": [],
   "source": []
  }
 ],
 "metadata": {
  "kernelspec": {
   "display_name": "Python 3",
   "language": "python",
   "name": "python3"
  },
  "language_info": {
   "codemirror_mode": {
    "name": "ipython",
    "version": 3
   },
   "file_extension": ".py",
   "mimetype": "text/x-python",
   "name": "python",
   "nbconvert_exporter": "python",
   "pygments_lexer": "ipython3",
   "version": "3.7.6"
  }
 },
 "nbformat": 4,
 "nbformat_minor": 4
}
